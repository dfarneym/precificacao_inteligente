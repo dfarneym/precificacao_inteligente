{
 "cells": [
  {
   "cell_type": "markdown",
   "id": "8ec3bc72",
   "metadata": {},
   "source": [
    "### Projeto desafio 1: vendas online\n",
    "Lemos a base de dados no desafio anterior, agora podemos avançar nas transformações desses dados. Então, o novo desafio do projeto 1 será dividido em algumas metas:\n",
    "\n",
    "Remover os dados em listas dentro do DataFrame;\n",
    "Verificar os tipos de dados;\n",
    "Identificar colunas numéricas;\n",
    "Transformar a coluna numérica para o tipo numérico.\n",
    "Projeto desafio 2: administração de condomínios"
   ]
  },
  {
   "cell_type": "code",
   "execution_count": null,
   "id": "cbf3fdb9",
   "metadata": {},
   "outputs": [],
   "source": [
    "# Importa a biblioteca pandas, essencial para manipulação e análise de dados em Python.\n",
    "# Usamos o apelido 'pd' por convenção para facilitar\n",
    "import pandas as pd\n",
    "import json"
   ]
  },
  {
   "cell_type": "code",
   "execution_count": null,
   "id": "4e0e32cc",
   "metadata": {},
   "outputs": [
    {
     "data": {
      "text/html": [
       "<div>\n",
       "<style scoped>\n",
       "    .dataframe tbody tr th:only-of-type {\n",
       "        vertical-align: middle;\n",
       "    }\n",
       "\n",
       "    .dataframe tbody tr th {\n",
       "        vertical-align: top;\n",
       "    }\n",
       "\n",
       "    .dataframe thead th {\n",
       "        text-align: right;\n",
       "    }\n",
       "</style>\n",
       "<table border=\"1\" class=\"dataframe\">\n",
       "  <thead>\n",
       "    <tr style=\"text-align: right;\">\n",
       "      <th></th>\n",
       "      <th>dados_vendas</th>\n",
       "    </tr>\n",
       "  </thead>\n",
       "  <tbody>\n",
       "    <tr>\n",
       "      <th>0</th>\n",
       "      <td>{'Data de venda': '06/06/2022', 'Cliente': ['@...</td>\n",
       "    </tr>\n",
       "    <tr>\n",
       "      <th>1</th>\n",
       "      <td>{'Data de venda': '07/06/2022', 'Cliente': ['I...</td>\n",
       "    </tr>\n",
       "    <tr>\n",
       "      <th>2</th>\n",
       "      <td>{'Data de venda': '08/06/2022', 'Cliente': ['I...</td>\n",
       "    </tr>\n",
       "    <tr>\n",
       "      <th>3</th>\n",
       "      <td>{'Data de venda': '09/06/2022', 'Cliente': ['J...</td>\n",
       "    </tr>\n",
       "    <tr>\n",
       "      <th>4</th>\n",
       "      <td>{'Data de venda': '10/06/2022', 'Cliente': ['M...</td>\n",
       "    </tr>\n",
       "  </tbody>\n",
       "</table>\n",
       "</div>"
      ],
      "text/plain": [
       "                                        dados_vendas\n",
       "0  {'Data de venda': '06/06/2022', 'Cliente': ['@...\n",
       "1  {'Data de venda': '07/06/2022', 'Cliente': ['I...\n",
       "2  {'Data de venda': '08/06/2022', 'Cliente': ['I...\n",
       "3  {'Data de venda': '09/06/2022', 'Cliente': ['J...\n",
       "4  {'Data de venda': '10/06/2022', 'Cliente': ['M..."
      ]
     },
     "execution_count": 2,
     "metadata": {},
     "output_type": "execute_result"
    }
   ],
   "source": [
    "# Define uma variável com o caminho (localização) do arquivo de dados.\n",
    "dados = pd.read_json('dados_vendas_clientes.json')\n",
    "dados"
   ]
  },
  {
   "cell_type": "code",
   "execution_count": 22,
   "id": "098c532a",
   "metadata": {},
   "outputs": [],
   "source": [
    "# Normalizando os dados da tabela Pasciente_2\n",
    "df_normalizado = pd.json_normalize(dados['dados_vendas'])"
   ]
  },
  {
   "cell_type": "code",
   "execution_count": 23,
   "id": "60b2d15c",
   "metadata": {},
   "outputs": [
    {
     "data": {
      "text/html": [
       "<div>\n",
       "<style scoped>\n",
       "    .dataframe tbody tr th:only-of-type {\n",
       "        vertical-align: middle;\n",
       "    }\n",
       "\n",
       "    .dataframe tbody tr th {\n",
       "        vertical-align: top;\n",
       "    }\n",
       "\n",
       "    .dataframe thead th {\n",
       "        text-align: right;\n",
       "    }\n",
       "</style>\n",
       "<table border=\"1\" class=\"dataframe\">\n",
       "  <thead>\n",
       "    <tr style=\"text-align: right;\">\n",
       "      <th></th>\n",
       "      <th>Data de venda</th>\n",
       "      <th>Cliente</th>\n",
       "      <th>Valor da compra</th>\n",
       "    </tr>\n",
       "  </thead>\n",
       "  <tbody>\n",
       "    <tr>\n",
       "      <th>0</th>\n",
       "      <td>06/06/2022</td>\n",
       "      <td>[@ANA _LUCIA 321, DieGO ARMANDIU 210, DieGO AR...</td>\n",
       "      <td>[R$ 836,5, R$ 573,33, R$ 392,8, R$ 512,34]</td>\n",
       "    </tr>\n",
       "    <tr>\n",
       "      <th>1</th>\n",
       "      <td>07/06/2022</td>\n",
       "      <td>[Isabely JOanes 738, Isabely JOanes 738, Isabe...</td>\n",
       "      <td>[R$ 825,31, R$ 168,07, R$ 339,18, R$ 314,69]</td>\n",
       "    </tr>\n",
       "    <tr>\n",
       "      <th>2</th>\n",
       "      <td>08/06/2022</td>\n",
       "      <td>[Isabely JOanes 738, JOãO Gabriel 671, Julya m...</td>\n",
       "      <td>[R$ 682,05, R$ 386,34, R$ 622,65, R$ 630,79]</td>\n",
       "    </tr>\n",
       "    <tr>\n",
       "      <th>3</th>\n",
       "      <td>09/06/2022</td>\n",
       "      <td>[Julya meireles 914, MaRIA Julia 444, MaRIA Ju...</td>\n",
       "      <td>[R$ 390,3, R$ 759,16, R$ 334,47, R$ 678,78]</td>\n",
       "    </tr>\n",
       "    <tr>\n",
       "      <th>4</th>\n",
       "      <td>10/06/2022</td>\n",
       "      <td>[MaRIA Julia 444, PEDRO PASCO 812, Paulo castr...</td>\n",
       "      <td>[R$ 314,24, R$ 311,15, R$ 899,16, R$ 885,24]</td>\n",
       "    </tr>\n",
       "  </tbody>\n",
       "</table>\n",
       "</div>"
      ],
      "text/plain": [
       "  Data de venda                                            Cliente  \\\n",
       "0    06/06/2022  [@ANA _LUCIA 321, DieGO ARMANDIU 210, DieGO AR...   \n",
       "1    07/06/2022  [Isabely JOanes 738, Isabely JOanes 738, Isabe...   \n",
       "2    08/06/2022  [Isabely JOanes 738, JOãO Gabriel 671, Julya m...   \n",
       "3    09/06/2022  [Julya meireles 914, MaRIA Julia 444, MaRIA Ju...   \n",
       "4    10/06/2022  [MaRIA Julia 444, PEDRO PASCO 812, Paulo castr...   \n",
       "\n",
       "                                Valor da compra  \n",
       "0    [R$ 836,5, R$ 573,33, R$ 392,8, R$ 512,34]  \n",
       "1  [R$ 825,31, R$ 168,07, R$ 339,18, R$ 314,69]  \n",
       "2  [R$ 682,05, R$ 386,34, R$ 622,65, R$ 630,79]  \n",
       "3   [R$ 390,3, R$ 759,16, R$ 334,47, R$ 678,78]  \n",
       "4  [R$ 314,24, R$ 311,15, R$ 899,16, R$ 885,24]  "
      ]
     },
     "execution_count": 23,
     "metadata": {},
     "output_type": "execute_result"
    }
   ],
   "source": [
    "df_normalizado"
   ]
  },
  {
   "cell_type": "code",
   "execution_count": 37,
   "id": "d6be4064",
   "metadata": {},
   "outputs": [
    {
     "name": "stdout",
     "output_type": "stream",
     "text": [
      "<class 'pandas.core.frame.DataFrame'>\n",
      "RangeIndex: 5 entries, 0 to 4\n",
      "Data columns (total 3 columns):\n",
      " #   Column           Non-Null Count  Dtype \n",
      "---  ------           --------------  ----- \n",
      " 0   Data de venda    5 non-null      object\n",
      " 1   Cliente          5 non-null      object\n",
      " 2   Valor da compra  5 non-null      object\n",
      "dtypes: object(3)\n",
      "memory usage: 252.0+ bytes\n"
     ]
    }
   ],
   "source": [
    "df_normalizado.info()"
   ]
  },
  {
   "cell_type": "code",
   "execution_count": 38,
   "id": "90e0cf70",
   "metadata": {},
   "outputs": [
    {
     "name": "stdout",
     "output_type": "stream",
     "text": [
      "--- DataFrame Original (com listas) ---\n",
      "  Data de venda                                            Cliente  \\\n",
      "0    06/06/2022  [@ANA _LUCIA 321, DieGO ARMANDIU 210, DieGO AR...   \n",
      "1    07/06/2022  [Isabely JOanes 738, Isabely JOanes 738, Isabe...   \n",
      "\n",
      "                                Valor da compra  \n",
      "0    [R$ 836,5, R$ 573,33, R$ 392,8, R$ 512,34]  \n",
      "1  [R$ 825,31, R$ 168,07, R$ 339,18, R$ 314,69]  \n",
      "----------------------------------------\n"
     ]
    }
   ],
   "source": [
    "print(\"--- DataFrame Original (com listas) ---\")\n",
    "print(df_normalizado.head(2))\n",
    "print(\"-\" * 40)"
   ]
  },
  {
   "cell_type": "code",
   "execution_count": null,
   "id": "61df90d5",
   "metadata": {},
   "outputs": [],
   "source": [
    "\n",
    "# --- Transformação dos Dados ---\n",
    "# Transforma cada item das listas nas colunas especificadas em uma nova linha.\n",
    "# Isso \"desagrupa\" os dados, criando uma linha para cada venda individual.\n",
    "# O DataFrame original é substituído pelo novo, já \"explodido\".\n",
    "colunas = ['Cliente', 'Valor da compra']\n",
    "dados_explodidos = df_normalizado.explode(colunas)"
   ]
  },
  {
   "cell_type": "code",
   "execution_count": null,
   "id": "e2dd5bec",
   "metadata": {},
   "outputs": [],
   "source": [
    "# --- Limpeza Final ---\n",
    "\n",
    "# Reorganiza o índice do DataFrame.\n",
    "# Após o 'explode', o índice fica com valores repetidos (ex: 0, 0, 0, 1, 1...).\n",
    "# 'reset_index' cria um novo índice sequencial (0, 1, 2, 3, 4...).\n",
    "# 'drop=True' impede que o índice antigo seja adicionado como uma nova coluna.\n",
    "# 'inplace=True' modifica o DataFrame 'dados' diretamente, sem precisar criar uma nova variável caso queira\n",
    "dados_final = dados_explodidos.reset_index(drop=True)"
   ]
  },
  {
   "cell_type": "code",
   "execution_count": null,
   "id": "2d3f3491",
   "metadata": {},
   "outputs": [
    {
     "name": "stdout",
     "output_type": "stream",
     "text": [
      "\n",
      "--- DataFrame Final (sem listas e com índice corrigido) ---\n",
      "  Data de venda             Cliente Valor da compra\n",
      "0    06/06/2022     @ANA _LUCIA 321        R$ 836,5\n",
      "1    06/06/2022  DieGO ARMANDIU 210       R$ 573,33\n",
      "2    06/06/2022  DieGO ARMANDIU 210        R$ 392,8\n",
      "3    06/06/2022  DieGO ARMANDIU 210       R$ 512,34\n",
      "4    07/06/2022  Isabely JOanes 738       R$ 825,31\n"
     ]
    }
   ],
   "source": [
    "# Imprime as 5 primeiras linhas do DataFrame final para verificar o resultado.\n",
    "# '.head()' é um método muito útil para inspecionar rapidamente a estrutura dos dados.\n",
    "print(\"\\n--- DataFrame Final (sem listas e com índice corrigido) ---\")\n",
    "print(dados_final.head())"
   ]
  },
  {
   "cell_type": "code",
   "execution_count": 42,
   "id": "4ad44fbe",
   "metadata": {},
   "outputs": [],
   "source": [
    "import numpy as np"
   ]
  },
  {
   "cell_type": "code",
   "execution_count": null,
   "id": "2c59305d",
   "metadata": {},
   "outputs": [],
   "source": [
    "# --- ETAPA 1: Limpeza da Coluna (String) ---\n",
    "\n",
    "# Seleciona a coluna 'Valor da compra'.\n",
    "# O método .apply() executa uma função para CADA valor (linha) da coluna.\n",
    "# A função (lambda x: ...) faz o seguinte para cada valor 'x':\n",
    "#   1. x.replace('R$',''): Remove o símbolo da moeda \"R$\".\n",
    "#   2. .replace(',','.'): Substitui a vírgula do decimal por um ponto, que é o padrão para números em Python.\n",
    "#   3. .strip(): Remove espaços em branco extras no início ou no fim da string.\n",
    "# O resultado é uma coluna com strings \"limpas\", prontas para a conversão. Ex: \"R$ 836,5 \" -> \"836.5\"\n",
    "dados_final['Valor da compra'] = dados_final['Valor da compra'].apply(lambda x : x.replace('R$','').replace(',','.').strip())\n",
    "# --- ETAPA 2: Conversão do Tipo de Dado ---\n",
    "\n",
    "# Seleciona a coluna 'Valor da compra' novamente.\n",
    "# O método .astype(np.float64) converte (ou \"cast\") todos os valores da coluna para o tipo numérico de ponto flutuante (float64).\n",
    "# Isso é o que permite que você some, tire médias, etc., dos valores.\n",
    "# np.float64 é o tipo de dado numérico padrão e de alta precisão do NumPy/pandas.\n",
    "dados_final['Valor da compra'] = dados_final['Valor da compra'].astype(np.float64)"
   ]
  },
  {
   "cell_type": "code",
   "execution_count": 44,
   "id": "942e287c",
   "metadata": {},
   "outputs": [
    {
     "name": "stdout",
     "output_type": "stream",
     "text": [
      "<class 'pandas.core.frame.DataFrame'>\n",
      "RangeIndex: 20 entries, 0 to 19\n",
      "Data columns (total 3 columns):\n",
      " #   Column           Non-Null Count  Dtype  \n",
      "---  ------           --------------  -----  \n",
      " 0   Data de venda    20 non-null     object \n",
      " 1   Cliente          20 non-null     object \n",
      " 2   Valor da compra  20 non-null     float64\n",
      "dtypes: float64(1), object(2)\n",
      "memory usage: 612.0+ bytes\n"
     ]
    }
   ],
   "source": [
    "dados_final.info()"
   ]
  }
 ],
 "metadata": {
  "kernelspec": {
   "display_name": "Python 3",
   "language": "python",
   "name": "python3"
  },
  "language_info": {
   "codemirror_mode": {
    "name": "ipython",
    "version": 3
   },
   "file_extension": ".py",
   "mimetype": "text/x-python",
   "name": "python",
   "nbconvert_exporter": "python",
   "pygments_lexer": "ipython3",
   "version": "3.11.9"
  }
 },
 "nbformat": 4,
 "nbformat_minor": 5
}
